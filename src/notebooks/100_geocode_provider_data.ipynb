{
 "cells": [
  {
   "cell_type": "code",
   "execution_count": 13,
   "metadata": {},
   "outputs": [],
   "source": [
    "import censusgeocode as cg\n",
    "import pandas as pd\n",
    "\n",
    "from dialysis.constants import DATA_DIR"
   ]
  },
  {
   "cell_type": "code",
   "execution_count": 4,
   "metadata": {},
   "outputs": [],
   "source": [
    "df = pd.read_csv(DATA_DIR / \"dialysis_current_facilities\" / \"ICH_CAHPS_FACILITY.csv\")"
   ]
  },
  {
   "cell_type": "code",
   "execution_count": 10,
   "metadata": {},
   "outputs": [
    {
     "data": {
      "text/plain": [
       "DaVita                                         2970\n",
       "Fresenius Medical Care                         2801\n",
       "Independent                                     733\n",
       "US Renal Care Inc.                              331\n",
       "Dialysis Clinic Inc.                            262\n",
       "American Renal Associates                       238\n",
       "Other                                           148\n",
       "Satellite Healthcare                             58\n",
       "Diversified Specialty Institutes (DSI)           23\n",
       "Northwest Kidney Centers                         20\n",
       "State Owned                                      19\n",
       "Kaiser Permanente                                19\n",
       "Centers for Dialysis Care                        19\n",
       "Wake Forest University                           18\n",
       "Atlantis Healthcare Group                        17\n",
       "Satellite Dialysis                               16\n",
       "Greenfield Health Systems                        15\n",
       "University of Utah Dialysis Program              14\n",
       "Sanford Health                                   13\n",
       "Mayo Clinic Dialysis                             12\n",
       "Puget Sound Kidney Centers                       11\n",
       "Centracare Dialysis                              11\n",
       "Central Florida Kidney Centers                    8\n",
       "Intermountain Healthcare                          7\n",
       "Independent Dialysis Foundation (IDF)             6\n",
       "Gundersen Lutheran                                5\n",
       "North Central Pennsylvania Dialysis Clinics       4\n",
       "Scott & White Memorial Hospital                   4\n",
       "Innovative Dialysis Systems                       3\n",
       "Renal Research Institute                          2\n",
       "Renal Care Partners                               2\n",
       "Hemodialysis Inc.                                 2\n",
       "UPMC Health System                                2\n",
       "Renal Care Group Inc.                             2\n",
       "Renal Ventures Management                         2\n",
       "Northern Michigan Hospital                        1\n",
       "National Renal Institutes                         1\n",
       "Olympic Peninsula Kidney Centers                  1\n",
       "Bon Secours                                       1\n",
       "RTC-Southeast LP                                  1\n",
       "Kidney Center Inc.                                1\n",
       "\"Dialysis Clinic                                  1\n",
       "National Nephrology Associates                    1\n",
       "Memorial Hermann Healthcare System                1\n",
       "New York Dialysis Services                        1\n",
       "Belmont Court Dialysis Center Inc.                1\n",
       "\"US Renal Care                                    1\n",
       "Name: Chain Organization, dtype: int64"
      ]
     },
     "execution_count": 10,
     "metadata": {},
     "output_type": "execute_result"
    }
   ],
   "source": [
    "# It turns out there's a very few number of chains\n",
    "df[\"Chain Organization\"].value_counts()"
   ]
  },
  {
   "cell_type": "code",
   "execution_count": 21,
   "metadata": {},
   "outputs": [
    {
     "data": {
      "text/plain": [
       "7830"
      ]
     },
     "execution_count": 21,
     "metadata": {},
     "output_type": "execute_result"
    }
   ],
   "source": [
    "len(df)"
   ]
  },
  {
   "cell_type": "code",
   "execution_count": 25,
   "metadata": {},
   "outputs": [],
   "source": [
    "# Geocode all the results. Takes about 30min\n",
    "\n",
    "data = [\n",
    "    {\n",
    "        \"id\": i,\n",
    "        \"street\": row[\"Address Line 1\"],\n",
    "        \"city\": row[\"City\"],\n",
    "        \"state\": row[\"State\"],\n",
    "        \"zip\": row[\"Zip\"],\n",
    "    }\n",
    "    for i, row in df.iterrows()\n",
    "]\n",
    "\n",
    "resp = cg.addressbatch(data)"
   ]
  },
  {
   "cell_type": "code",
   "execution_count": 34,
   "metadata": {},
   "outputs": [],
   "source": [
    "# Merge the geocoded data back\n",
    "df_resp = pd.DataFrame(resp)\n",
    "df_resp[\"id\"] = df_resp[\"id\"].astype(int)\n",
    "\n",
    "merged_df = df.merge(\n",
    "    df_resp,\n",
    "    left_index=True,\n",
    "    right_on=\"id\",\n",
    "    how=\"left\",\n",
    "    indicator=True,\n",
    ")"
   ]
  },
  {
   "cell_type": "code",
   "execution_count": 42,
   "metadata": {},
   "outputs": [
    {
     "data": {
      "text/plain": [
       "both          7830\n",
       "left_only        0\n",
       "right_only       0\n",
       "Name: _merge, dtype: int64"
      ]
     },
     "execution_count": 42,
     "metadata": {},
     "output_type": "execute_result"
    }
   ],
   "source": [
    "# Make sure we didn't miss anyting in the merge\n",
    "merged_df[\"_merge\"].value_counts()"
   ]
  },
  {
   "cell_type": "code",
   "execution_count": 44,
   "metadata": {},
   "outputs": [],
   "source": [
    "# Write out the data\n",
    "\n",
    "merged_df.to_parquet(DATA_DIR / \"dialysis_facilities_geocoded.parquet\")"
   ]
  }
 ],
 "metadata": {
  "kernelspec": {
   "display_name": "Python 3.8.6 ('.venv': poetry)",
   "language": "python",
   "name": "python3"
  },
  "language_info": {
   "codemirror_mode": {
    "name": "ipython",
    "version": 3
   },
   "file_extension": ".py",
   "mimetype": "text/x-python",
   "name": "python",
   "nbconvert_exporter": "python",
   "pygments_lexer": "ipython3",
   "version": "3.8.6"
  },
  "orig_nbformat": 4,
  "vscode": {
   "interpreter": {
    "hash": "3e46d8df594471623d0213e63ff1ce63b83d4bab49523cda53b248fbbb0bbdf7"
   }
  }
 },
 "nbformat": 4,
 "nbformat_minor": 2
}
